{
 "cells": [
  {
   "cell_type": "code",
   "execution_count": 1,
   "id": "7a2a798a",
   "metadata": {},
   "outputs": [],
   "source": [
    "## Создаем Базу Данных\n",
    "import random\n",
    "import numpy as np\n",
    "import pandas as pd\n",
    "random.seed(\"АДВИ_2023\")\n",
    "\n",
    "## Колонка 1 Индексы\n",
    "index_arr = np.arange(1, 1001, 1)\n",
    "random.shuffle(index_arr)\n",
    "\n",
    "## Колонка 2 Группы\n",
    "population = ['группа_1', 'группа_2', 'группа_3', 'группа_4', 'группа_5']\n",
    "arr_groups = random.choices(population, k=1000)\n",
    "\n",
    "## Колонка 3 uniform\n",
    "arr_uniform = [random.randint(50,100) for x in range(1000)]\n",
    "\n",
    "## Колонка 4 gauss_1\n",
    "arr_gauss_1 = [random.gauss(0, 1) for x in range(1000)]\n",
    "\n",
    "## Колонка 5 gauss_2\n",
    "arr_gauss_2 = [random.gauss(0, 12) for x in range(1000)]\n",
    "\n",
    "## Колонка 6 gauss_1\n",
    "arr_gauss_3 = [random.gauss(50, 9) for x in range(1000)]\n",
    "\n",
    "## Создаем Data Frame\n",
    "import pandas as pd\n",
    "data = {'index': index_arr, 'groups': arr_groups, 'uniform': arr_uniform, 'gauss_1': arr_gauss_1, 'gauss_2': arr_gauss_2, 'gauss_3': arr_gauss_3}\n",
    "df = pd.DataFrame(data)\n",
    "##print(df)\n",
    "\n",
    "## Зааменяем на None\n",
    "df.loc[df['index'] % 121 == 0,'gauss_1'] = None\n",
    "df.loc[np.modf(df['gauss_2'])[0] > 0.95, 'gauss_2'] = None\n",
    "\n",
    "## Теперь заполняем значения\n",
    "df['gauss_2'].fillna(df['gauss_2'].mean(), inplace = True)\n",
    "df.dropna(inplace = True)\n",
    "\n",
    "##print(df)\n",
    "\n"
   ]
  },
  {
   "cell_type": "code",
   "execution_count": 2,
   "id": "cd6b4e48",
   "metadata": {},
   "outputs": [
    {
     "name": "stdout",
     "output_type": "stream",
     "text": [
      "Задача 2\n",
      "-0.47379908256312997\n",
      "12.06996394390761\n"
     ]
    }
   ],
   "source": [
    "##Задача 2. Среднее и среднее квадратичное отклонение\n",
    "print('Задача 2')\n",
    "print(df['gauss_2'].mean())\n",
    "print(df['gauss_2'].std())"
   ]
  },
  {
   "cell_type": "code",
   "execution_count": 3,
   "id": "4415b293",
   "metadata": {},
   "outputs": [
    {
     "name": "stdout",
     "output_type": "stream",
     "text": [
      "Задача 3\n",
      "215 194 184 222 177 992\n"
     ]
    }
   ],
   "source": [
    "## Задача 3. Какая группа встречается чаще\n",
    "print('Задача 3')\n",
    "groups = df['groups'].to_numpy()\n",
    "k1 = 0\n",
    "k2 = 0\n",
    "k3 = 0\n",
    "k4 = 0\n",
    "k5 = 0\n",
    "for i in range(len(groups)):\n",
    "    if groups[i] == 'группа_1':\n",
    "        k1 += 1\n",
    "    if groups[i] == 'группа_2':\n",
    "        k2 += 1\n",
    "    if groups[i] == 'группа_3':\n",
    "        k3 += 1\n",
    "    if groups[i] == 'группа_4':\n",
    "        k4 += 1\n",
    "    if groups[i] == 'группа_5':\n",
    "        k5 += 1\n",
    "\n",
    "print(k1, k2, k3, k4, k5, k1 + k2 + k3 + k4 + k5)"
   ]
  },
  {
   "cell_type": "code",
   "execution_count": 4,
   "id": "d713ba93",
   "metadata": {},
   "outputs": [
    {
     "name": "stdout",
     "output_type": "stream",
     "text": [
      "Задача 4\n",
      "6\n"
     ]
    }
   ],
   "source": [
    "## Задача 4. Наименьший индекс у группы 5\n",
    "print('Задача 4')\n",
    "g_5 = df.loc[df['groups'] == 'группа_5']\n",
    "##print(g_5)\n",
    "g_5_ind = g_5['index'].to_numpy()\n",
    "##print(g_5_ind)\n",
    "print(min(g_5_ind))"
   ]
  },
  {
   "cell_type": "code",
   "execution_count": 5,
   "id": "2205dbfa",
   "metadata": {},
   "outputs": [
    {
     "name": "stdout",
     "output_type": "stream",
     "text": [
      "Задача 5\n",
      "118\n"
     ]
    }
   ],
   "source": [
    "## Задача 5. Сколько записей из колонки uniform имеют значение не ниже значения 90% перцентиля?\\\n",
    "print('Задача 5')\n",
    "uniform = df['uniform'].to_numpy()\n",
    "a = np.percentile(uniform, 90)\n",
    "ku = 0\n",
    "##print(np.percentile (df.uniform , 90))\n",
    "for i in range(len(uniform)):\n",
    "    if uniform[i] >= a:\n",
    "        ku += 1\n",
    "print(ku)"
   ]
  },
  {
   "cell_type": "code",
   "execution_count": 6,
   "id": "b94eac30",
   "metadata": {},
   "outputs": [
    {
     "name": "stdout",
     "output_type": "stream",
     "text": [
      "Задача 6\n",
      "49.87670759296273\n",
      "49.990528569377545\n",
      "49.45926086807391\n",
      "49.069510645167135\n",
      "49.93691040973471\n"
     ]
    }
   ],
   "source": [
    "## Задача 6\n",
    "print('Задача 6')\n",
    "import statistics\n",
    "print(statistics.median(df.loc[df['groups'] == 'группа_1']['gauss_3'].to_numpy()))\n",
    "print(statistics.median(df.loc[df['groups'] == 'группа_2']['gauss_3'].to_numpy()))\n",
    "print(statistics.median(df.loc[df['groups'] == 'группа_3']['gauss_3'].to_numpy()))\n",
    "print(statistics.median(df.loc[df['groups'] == 'группа_4']['gauss_3'].to_numpy()))\n",
    "print(statistics.median(df.loc[df['groups'] == 'группа_5']['gauss_3'].to_numpy()))"
   ]
  },
  {
   "cell_type": "code",
   "execution_count": 16,
   "id": "ae7a0ff8",
   "metadata": {},
   "outputs": [
    {
     "name": "stdout",
     "output_type": "stream",
     "text": [
      "Задача 7\n",
      "-3.628448160620648\n",
      "-2.692705493734934\n",
      "-2.6067727433396337\n",
      "-3.9332542551046807\n",
      "-2.6397332932469912\n",
      "\n",
      "     index    groups  uniform   gauss_1   gauss_2    gauss_3  gauss_new\n",
      "540    939  группа_3       62 -2.606773  9.300478  36.542984   0.183173\n",
      "-36.18751957608629\n"
     ]
    }
   ],
   "source": [
    "## Задача 7\n",
    "print('Задача 7')\n",
    "\n",
    "print(min(df.loc[df['groups'] == 'группа_1']['gauss_1'].to_numpy()))\n",
    "print(min(df.loc[df['groups'] == 'группа_2']['gauss_1'].to_numpy()))\n",
    "print(min(df.loc[df['groups'] == 'группа_3']['gauss_1'].to_numpy()))\n",
    "print(min(df.loc[df['groups'] == 'группа_4']['gauss_1'].to_numpy()))\n",
    "print(min(df.loc[df['groups'] == 'группа_5']['gauss_1'].to_numpy()))\n",
    "print()\n",
    "\n",
    "g_3 = df.loc[df['groups'] == 'группа_3']\n",
    "a = min(df.loc[df['groups'] == 'группа_3']['gauss_1'].to_numpy())\n",
    "print(g_3.loc[g_3['gauss_1'] == a])\n",
    "\n",
    "g_3_n = g_3['gauss_2'].to_numpy()\n",
    "print(min(g_3_n))"
   ]
  },
  {
   "cell_type": "code",
   "execution_count": 8,
   "id": "7205f102",
   "metadata": {},
   "outputs": [
    {
     "name": "stdout",
     "output_type": "stream",
     "text": [
      "Задача 8\n",
      "0.10641825158661447\n"
     ]
    }
   ],
   "source": [
    "## Задача 8\n",
    "print('Задача 8')\n",
    "df = df.assign(gauss_new = (df['gauss_1'] + df['gauss_2']) / df['gauss_3'])\n",
    "df\n",
    "print(np.percentile(df.gauss_new , 70))"
   ]
  }
 ],
 "metadata": {
  "kernelspec": {
   "display_name": "Python 3 (ipykernel)",
   "language": "python",
   "name": "python3"
  },
  "language_info": {
   "codemirror_mode": {
    "name": "ipython",
    "version": 3
   },
   "file_extension": ".py",
   "mimetype": "text/x-python",
   "name": "python",
   "nbconvert_exporter": "python",
   "pygments_lexer": "ipython3",
   "version": "3.9.12"
  }
 },
 "nbformat": 4,
 "nbformat_minor": 5
}
